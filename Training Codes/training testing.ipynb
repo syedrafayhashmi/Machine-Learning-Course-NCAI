{
 "cells": [
  {
   "cell_type": "code",
   "execution_count": 23,
   "metadata": {
    "scrolled": false
   },
   "outputs": [
    {
     "data": {
      "image/png": "[encoded data removed]",
      "text/plain": [
       "<Figure size 432x288 with 1 Axes>"
      ]
     },
     "metadata": {
      "needs_background": "light"
     },
     "output_type": "display_data"
    },
    {
     "data": {
      "image/png": "[encoded data removed]",
      "text/plain": [
       "<Figure size 1440x288 with 10 Axes>"
      ]
     },
     "metadata": {
      "needs_background": "light"
     },
     "output_type": "display_data"
    },
    {
     "name": "stdout",
     "output_type": "stream",
     "text": [
      "Previous X_train shape: (60000, 28, 28) \n",
      "Previous Y_train shape:(60000,)\n",
      "New X_train shape: (60000, 784) \n",
      "New Y_train shape:(60000, 10)\n",
      "Model: \"sequential_13\"\n",
      "_________________________________________________________________\n",
      "Layer (type)                 Output Shape              Param #   \n",
      "=================================================================\n",
      "dense_37 (Dense)             (None, 400)               314000    \n",
      "_________________________________________________________________\n",
      "dense_38 (Dense)             (None, 20)                8020      \n",
      "_________________________________________________________________\n",
      "dense_39 (Dense)             (None, 10)                210       \n",
      "=================================================================\n",
      "Total params: 322,230\n",
      "Trainable params: 322,230\n",
      "Non-trainable params: 0\n",
      "_________________________________________________________________\n",
      "Epoch 1/10\n",
      "60000/60000 [==============================] - 5s 85us/step - loss: 0.3359 - accuracy: 0.9038\n",
      "Epoch 2/10\n",
      "60000/60000 [==============================] - 5s 79us/step - loss: 0.1263 - accuracy: 0.9631\n",
      "Epoch 3/10\n",
      "60000/60000 [==============================] - 5s 79us/step - loss: 0.0841 - accuracy: 0.9750\n",
      "Epoch 4/10\n",
      "60000/60000 [==============================] - 5s 80us/step - loss: 0.0618 - accuracy: 0.9815\n",
      "Epoch 5/10\n",
      "60000/60000 [==============================] - 6s 94us/step - loss: 0.0463 - accuracy: 0.9867\n",
      "Epoch 6/10\n",
      "60000/60000 [==============================] - 5s 88us/step - loss: 0.0364 - accuracy: 0.9892 2s - l - ETA: 1s -\n",
      "Epoch 7/10\n",
      "60000/60000 [==============================] - 5s 79us/step - loss: 0.0273 - accuracy: 0.9922\n",
      "Epoch 8/10\n",
      "60000/60000 [==============================] - 5s 80us/step - loss: 0.0208 - accuracy: 0.9946\n",
      "Epoch 9/10\n",
      "60000/60000 [==============================] - 5s 81us/step - loss: 0.0166 - accuracy: 0.9956\n",
      "Epoch 10/10\n",
      "60000/60000 [==============================] - 5s 81us/step - loss: 0.0136 - accuracy: 0.9965\n",
      "10000/10000 [==============================] - 1s 82us/step\n",
      "\n",
      "Test accuracy: 0.9800999760627747\n",
      "The predicted number is [3]\n"
     ]
    }
   ],
   "source": [
    "from keras.datasets import mnist\n",
    "from keras.models import Sequential \n",
    "from keras.layers.core import Dense, Activation\n",
    "from keras.utils import np_utils\n",
    "(X_train, Y_train), (X_test, Y_test) = mnist.load_data()\n",
    "import matplotlib.pyplot as plt\n",
    "from PIL import Image\n",
    "import numpy as np\n",
    "img = Image.open(\"img.jpg\")\n",
    "img.load()\n",
    "img = np.asarray(img, dtype = \"int32\")\n",
    "plt.figure()\n",
    "plt.imshow(img)\n",
    "plt.gray()\n",
    "plt.show()\n",
    "plt.close()\n",
    "\n",
    "n = 10  # how many digits we will display\n",
    "plt.figure(figsize=(20, 4))\n",
    "for i in range(n):\n",
    "    # display original\n",
    "    ax = plt.subplot(2, n, i + 1)\n",
    "    plt.imshow(X_test[i].reshape(28, 28))\n",
    "    plt.gray()\n",
    "    ax.get_xaxis().set_visible(False)\n",
    "    ax.get_yaxis().set_visible(False)\n",
    "plt.show()\n",
    "plt.close()\n",
    "print(\"Previous X_train shape: {} \\nPrevious Y_train shape:{}\".format(X_train.shape, Y_train.shape))\n",
    "X_train = X_train.reshape(60000, 784)     \n",
    "X_test = X_test.reshape(10000, 784)\n",
    "myimage = np.resize(img,(28,28))\n",
    "myimage = myimage.reshape(1,784)\n",
    "\n",
    "X_train = X_train.astype('float32')     \n",
    "X_test = X_test.astype('float32')     \n",
    "X_train /= 255    \n",
    "X_test /= 255\n",
    "classes = 10\n",
    "Y_train = np_utils.to_categorical(Y_train, classes)     \n",
    "Y_test = np_utils.to_categorical(Y_test, classes)\n",
    "print(\"New X_train shape: {} \\nNew Y_train shape:{}\".format(X_train.shape, Y_train.shape))\n",
    "input_size = 784\n",
    "batch_size = 200   \n",
    "hidden1 = 400\n",
    "hidden2 = 20\n",
    "epochs = 2\n",
    "\n",
    "###4.Build the model\n",
    "model = Sequential()     \n",
    "model.add(Dense(hidden1, input_dim=input_size, activation='relu'))\n",
    "# output = relu (dot (W, input) + bias)\n",
    "model.add(Dense(hidden2, activation='relu'))\n",
    "model.add(Dense(classes, activation='softmax')) \n",
    "\n",
    "# Compilation\n",
    "model.compile(loss='categorical_crossentropy', \n",
    "    metrics=['accuracy'], optimizer='Adam')\n",
    "model.summary()\n",
    "# Fitting on Data\n",
    "model.fit(X_train, Y_train, batch_size=batch_size, epochs=10, verbose= 1)\n",
    "###5.Test\n",
    "\n",
    "score = model.evaluate(X_test, Y_test, verbose=1)\n",
    "print('\\n''Test accuracy:', score[1])\n",
    "mask = range(10,20)\n",
    "#X_valid = X_test[mask]\n",
    "X_valid = myimage\n",
    "y_pred = model.predict_classes(X_valid)\n",
    "#y_pred = model.predict_classes(myimg)\n",
    "print(f\"The predicted number is {y_pred}\")\n",
    "#plt.figure(figsize=(20, 4))\n",
    "#for i in range(n):\n",
    "    # display original\n",
    "    #ax = plt.subplot(2, n, i + 1)\n",
    "    #plt.imshow(X_valid[i].reshape(28, 28))\n",
    "#plt.imshow(X_valid)\n",
    "#plt.gray()\n",
    "#    ax.get_xaxis().set_visible(False)\n",
    "#    ax.get_yaxis().set_visible(False)\n",
    "#plt.show()\n",
    "#plt.close()\n"
   ]
  },
  {
   "cell_type": "code",
   "execution_count": 15,
   "metadata": {},
   "outputs": [
    {
     "data": {
      "image/png": "[encoded data removed]",
      "text/plain": [
       "<Figure size 432x288 with 1 Axes>"
      ]
     },
     "metadata": {
      "needs_background": "light"
     },
     "output_type": "display_data"
    }
   ],
   "source": [
    "plt.figure()\n",
    "plt.imshow(img)\n",
    "plt.gray()\n",
    "plt.show()\n",
    "plt.close()\n"
   ]
  },
  {
   "cell_type": "code",
   "execution_count": null,
   "metadata": {},
   "outputs": [],
   "source": []
  }
 ],
 "metadata": {
  "kernelspec": {
   "display_name": "Python 3",
   "language": "python",
   "name": "python3"
  },
  "language_info": {
   "codemirror_mode": {
    "name": "ipython",
    "version": 3
   },
   "file_extension": ".py",
   "mimetype": "text/x-python",
   "name": "python",
   "nbconvert_exporter": "python",
   "pygments_lexer": "ipython3",
   "version": "3.7.3"
  }
 },
 "nbformat": 4,
 "nbformat_minor": 2
}
