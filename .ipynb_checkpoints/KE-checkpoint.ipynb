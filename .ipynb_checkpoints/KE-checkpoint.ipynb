{
 "cells": [
  {
   "cell_type": "code",
   "execution_count": 39,
   "metadata": {},
   "outputs": [],
   "source": [
    "\n",
    "\n",
    "# Importing the libraries\n",
    "import numpy as np\n",
    "import matplotlib.pyplot as plt\n",
    "import pandas as pd\n",
    "\n",
    "# Importing the dataset\n",
    "dataset = pd.read_csv('new k electric dataset.csv')\n"
   ]
  },
  {
   "cell_type": "code",
   "execution_count": 54,
   "metadata": {},
   "outputs": [
    {
     "data": {
      "text/plain": [
       "array([[2000],\n",
       "       [2001],\n",
       "       [2002],\n",
       "       [2003],\n",
       "       [2004],\n",
       "       [2005],\n",
       "       [2006],\n",
       "       [2007],\n",
       "       [2008],\n",
       "       [2009],\n",
       "       [2010],\n",
       "       [2011],\n",
       "       [2012],\n",
       "       [2013],\n",
       "       [2014],\n",
       "       [2015],\n",
       "       [2016],\n",
       "       [2017],\n",
       "       [2018],\n",
       "       [2019]], dtype=int64)"
      ]
     },
     "execution_count": 54,
     "metadata": {},
     "output_type": "execute_result"
    }
   ],
   "source": [
    "a.values"
   ]
  },
  {
   "cell_type": "code",
   "execution_count": 62,
   "metadata": {},
   "outputs": [
    {
     "ename": "ImportError",
     "evalue": "cannot import name 'train_test_split' from 'sklearn.datasets' (C:\\Users\\Rafey\\Anaconda3\\lib\\site-packages\\sklearn\\datasets\\__init__.py)",
     "output_type": "error",
     "traceback": [
      "\u001b[1;31m---------------------------------------------------------------------------\u001b[0m",
      "\u001b[1;31mImportError\u001b[0m                               Traceback (most recent call last)",
      "\u001b[1;32m<ipython-input-62-82ecdd7ae131>\u001b[0m in \u001b[0;36m<module>\u001b[1;34m\u001b[0m\n\u001b[0;32m      6\u001b[0m \u001b[0mb\u001b[0m \u001b[1;33m=\u001b[0m \u001b[0mdataset\u001b[0m\u001b[1;33m.\u001b[0m\u001b[0miloc\u001b[0m\u001b[1;33m[\u001b[0m\u001b[1;33m:\u001b[0m\u001b[1;33m,\u001b[0m\u001b[1;36m1\u001b[0m\u001b[1;33m:\u001b[0m\u001b[1;36m2\u001b[0m\u001b[1;33m]\u001b[0m\u001b[1;33m.\u001b[0m\u001b[0mvalues\u001b[0m\u001b[1;33m\u001b[0m\u001b[1;33m\u001b[0m\u001b[0m\n\u001b[0;32m      7\u001b[0m \u001b[1;31m# Splitting the dataset into the Training set and Test set\u001b[0m\u001b[1;33m\u001b[0m\u001b[1;33m\u001b[0m\u001b[1;33m\u001b[0m\u001b[0m\n\u001b[1;32m----> 8\u001b[1;33m \u001b[1;32mfrom\u001b[0m \u001b[0msklearn\u001b[0m\u001b[1;33m.\u001b[0m\u001b[0mdatasets\u001b[0m \u001b[1;32mimport\u001b[0m \u001b[0mtrain_test_split\u001b[0m\u001b[1;33m\u001b[0m\u001b[1;33m\u001b[0m\u001b[0m\n\u001b[0m\u001b[0;32m      9\u001b[0m \u001b[0ma_train\u001b[0m\u001b[1;33m,\u001b[0m \u001b[0ma_test\u001b[0m\u001b[1;33m,\u001b[0m \u001b[0mb_train\u001b[0m\u001b[1;33m,\u001b[0m \u001b[0mb_test\u001b[0m \u001b[1;33m=\u001b[0m \u001b[0mtrain_test_split\u001b[0m\u001b[1;33m(\u001b[0m\u001b[0ma\u001b[0m\u001b[1;33m,\u001b[0m \u001b[0mb\u001b[0m\u001b[1;33m,\u001b[0m \u001b[0mtest_size\u001b[0m \u001b[1;33m=\u001b[0m \u001b[1;36m0.2\u001b[0m\u001b[1;33m,\u001b[0m \u001b[0mrandom_state\u001b[0m \u001b[1;33m=\u001b[0m \u001b[1;36m0\u001b[0m\u001b[1;33m)\u001b[0m\u001b[1;33m\u001b[0m\u001b[1;33m\u001b[0m\u001b[0m\n\u001b[0;32m     10\u001b[0m \u001b[1;33m\u001b[0m\u001b[0m\n",
      "\u001b[1;31mImportError\u001b[0m: cannot import name 'train_test_split' from 'sklearn.datasets' (C:\\Users\\Rafey\\Anaconda3\\lib\\site-packages\\sklearn\\datasets\\__init__.py)"
     ]
    }
   ],
   "source": [
    "\n",
    "\n",
    "\n",
    "# variables for months\n",
    "a = dataset.iloc[:,0:1].values\n",
    "b = dataset.iloc[:,1:2].values\n",
    "# Splitting the dataset into the Training set and Test set\n",
    "from sklearn.datasets import train_test_split\n",
    "a_train, a_test, b_train, b_test = train_test_split(a, b, test_size = 0.2, random_state = 0)\n",
    "\n",
    "\n",
    "# Fitting Linear Regression to the dataset\n",
    "from sklearn.linear_model import LinearRegression\n",
    "lin_reg1 = LinearRegression()\n",
    "lin_reg1.fit(a, b)\n",
    "\n",
    "# Fitting Polynomial Regression to the dataset\n",
    "from sklearn.preprocessing import PolynomialFeatures\n",
    "poly_reg = PolynomialFeatures(degree = 4)\n",
    "a_poly = poly_reg.fit_transform(a)\n",
    "poly_reg.fit(a_poly, b)\n",
    "poly_reg1 = LinearRegression()\n",
    "poly_reg1.fit(a_poly, b)\n",
    "\n",
    "# Visualising the Linear Regression results\n",
    "plt.scatter(a, b, color = 'red')\n",
    "plt.plot(a, lin_reg1.predict(a), color = 'blue')\n",
    "plt.title(f'MONTH OF {dataset.iloc[:,1:2].columns[0]}')\n",
    "plt.xlabel('YEARS')\n",
    "plt.ylabel('K ELECTTRIC BILLS')\n",
    "plt.show()\n",
    "\n",
    "# Visualising the Polynomial Regression results\n",
    "plt.scatter(a, b, color = 'red')\n",
    "plt.plot(a, poly_reg1.predict(poly_reg.fit_transform(a)), color = 'blue')\n",
    "plt.title(f'MONTH OF {dataset.iloc[:,1:2].columns[0]} (Polynomial Regression)')\n",
    "plt.xlabel('YEARS')\n",
    "plt.ylabel('K ELECTRIC BILLS')\n",
    "plt.show()\n",
    "\n"
   ]
  },
  {
   "cell_type": "code",
   "execution_count": 56,
   "metadata": {},
   "outputs": [
    {
     "data": {
      "text/plain": [
       "array([[2000],\n",
       "       [2001],\n",
       "       [2002],\n",
       "       [2003],\n",
       "       [2004],\n",
       "       [2005],\n",
       "       [2006],\n",
       "       [2007],\n",
       "       [2008],\n",
       "       [2009],\n",
       "       [2010],\n",
       "       [2011],\n",
       "       [2012],\n",
       "       [2013],\n",
       "       [2014],\n",
       "       [2015],\n",
       "       [2016],\n",
       "       [2017],\n",
       "       [2018],\n",
       "       [2019]], dtype=int64)"
      ]
     },
     "execution_count": 56,
     "metadata": {},
     "output_type": "execute_result"
    }
   ],
   "source": [
    "a"
   ]
  },
  {
   "cell_type": "code",
   "execution_count": 60,
   "metadata": {},
   "outputs": [
    {
     "data": {
      "image/png": "[encoded data removed]",
      "text/plain": [
       "<Figure size 432x288 with 1 Axes>"
      ]
     },
     "metadata": {
      "needs_background": "light"
     },
     "output_type": "display_data"
    },
    {
     "name": "stdout",
     "output_type": "stream",
     "text": [
      "k electric bill of month ....\n",
      "[[849.84547368]]\n",
      "k electric bill of month ..... (poly reg)\n",
      "[[930.22209072]]\n"
     ]
    }
   ],
   "source": [
    "# Visualising the Polynomial Regression results (for higher resolution and smoother curve)\n",
    "a_grid = np.arange(min(a), max(a), 0.1)\n",
    "a_grid = a_grid.reshape((len(a_grid), 1))\n",
    "plt.scatter(a, b, color = 'red')\n",
    "plt.plot(a_grid, poly_reg1.predict(poly_reg.fit_transform(a_grid)), color = 'blue')\n",
    "plt.title('MONTH OF .... (Polynomial Regression)')\n",
    "plt.xlabel('YEARS')\n",
    "plt.ylabel('K ELECTRIC BILLS')\n",
    "plt.show()\n",
    "\n",
    "# Predicting a new result with Linear Regression\n",
    "print(\"k electric bill of month ....\")\n",
    "print (lin_reg1.predict([[2014]]))\n",
    "\n",
    "# Predicting a new result with Polynomial Regression\n",
    "print (\"k electric bill of month ..... (poly reg)\")\n",
    "print(poly_reg1.predict(poly_reg.fit_transform([[2014]])))"
   ]
  },
  {
   "cell_type": "code",
   "execution_count": null,
   "metadata": {},
   "outputs": [],
   "source": []
  },
  {
   "cell_type": "code",
   "execution_count": null,
   "metadata": {},
   "outputs": [],
   "source": []
  }
 ],
 "metadata": {
  "kernelspec": {
   "display_name": "Python 3",
   "language": "python",
   "name": "python3"
  },
  "language_info": {
   "codemirror_mode": {
    "name": "ipython",
    "version": 3
   },
   "file_extension": ".py",
   "mimetype": "text/x-python",
   "name": "python",
   "nbconvert_exporter": "python",
   "pygments_lexer": "ipython3",
   "version": "3.7.3"
  }
 },
 "nbformat": 4,
 "nbformat_minor": 2
}
