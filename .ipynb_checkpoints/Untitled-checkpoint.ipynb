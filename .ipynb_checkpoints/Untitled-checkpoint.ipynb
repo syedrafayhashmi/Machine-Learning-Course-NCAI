{
 "cells": [
  {
   "cell_type": "code",
   "execution_count": 6,
   "metadata": {},
   "outputs": [],
   "source": [
    "import pandas as pd"
   ]
  },
  {
   "cell_type": "code",
   "execution_count": 26,
   "metadata": {},
   "outputs": [
    {
     "name": "stdout",
     "output_type": "stream",
     "text": [
      "17 4\n",
      "\n",
      "2 5 6 8\n",
      "\n"
     ]
    }
   ],
   "source": [
    "filename = \"C:/Users/Rafey/Downloads/a_example (1).in\"\n",
    "\n",
    "for line in open(filename, 'r', newline='\\n'):\n",
    "    print(line)    "
   ]
  },
  {
   "cell_type": "code",
   "execution_count": 96,
   "metadata": {},
   "outputs": [
    {
     "data": {
      "text/html": [
       "<div>\n",
       "<style scoped>\n",
       "    .dataframe tbody tr th:only-of-type {\n",
       "        vertical-align: middle;\n",
       "    }\n",
       "\n",
       "    .dataframe tbody tr th {\n",
       "        vertical-align: top;\n",
       "    }\n",
       "\n",
       "    .dataframe thead th {\n",
       "        text-align: right;\n",
       "    }\n",
       "</style>\n",
       "<table border=\"1\" class=\"dataframe\">\n",
       "  <thead>\n",
       "    <tr style=\"text-align: right;\">\n",
       "      <th></th>\n",
       "      <th>0</th>\n",
       "    </tr>\n",
       "  </thead>\n",
       "  <tbody>\n",
       "    <tr>\n",
       "      <th>0</th>\n",
       "      <td>17 4</td>\n",
       "    </tr>\n",
       "    <tr>\n",
       "      <th>1</th>\n",
       "      <td>2 5 6 8</td>\n",
       "    </tr>\n",
       "  </tbody>\n",
       "</table>\n",
       "</div>"
      ],
      "text/plain": [
       "         0\n",
       "0     17 4\n",
       "1  2 5 6 8"
      ]
     },
     "execution_count": 96,
     "metadata": {},
     "output_type": "execute_result"
    }
   ],
   "source": [
    "frame = pd.read_csv(\"C:/Users/Rafey/Downloads/a_example (1).in\", header=None)\n",
    "frame"
   ]
  },
  {
   "cell_type": "code",
   "execution_count": 102,
   "metadata": {},
   "outputs": [
    {
     "data": {
      "text/plain": [
       "['17 4']"
      ]
     },
     "execution_count": 102,
     "metadata": {},
     "output_type": "execute_result"
    }
   ],
   "source": [
    "list(frame.loc[0])"
   ]
  },
  {
   "cell_type": "code",
   "execution_count": 75,
   "metadata": {},
   "outputs": [],
   "source": [
    "frame = pd.read_csv(\"C:/Users/Rafey/Downloads/a_example (1).in\", header=None ,escapechar=' ')"
   ]
  },
  {
   "cell_type": "code",
   "execution_count": 118,
   "metadata": {},
   "outputs": [
    {
     "data": {
      "text/plain": [
       "[['17', '4'], ['2', '5', '6', '8']]"
      ]
     },
     "execution_count": 118,
     "metadata": {},
     "output_type": "execute_result"
    }
   ],
   "source": [
    "lists"
   ]
  },
  {
   "cell_type": "code",
   "execution_count": 149,
   "metadata": {},
   "outputs": [
    {
     "name": "stdout",
     "output_type": "stream",
     "text": [
      "4\n",
      "[0, 0, 0, 0, 1, 0, -1, -2, 2, 1, 0, -1, 3, 2, 1, 0]\n",
      "['2', '5', '6', '8']\n"
     ]
    }
   ],
   "source": [
    "lists = []\n",
    "import csv\n",
    "with open(\"C:/Users/Rafey/Downloads/a_example (1).in\", newline = '\\n') as data:\n",
    "    data_reader = csv.reader(data, delimiter=\" \")\n",
    "    for line in data_reader:\n",
    "        lists.append(line)\n",
    "\n",
    "types = lists[0][1]    \n",
    "type_name = []\n",
    "dummylist = []\n",
    "#num = 0 #type number\n",
    "for x in range(len(lists[1])):\n",
    "    for y in lists[1]:\n",
    "        type_name.append(x)\n",
    "        if y in dummylist:\n",
    "            x-=1\n",
    "        else:\n",
    "            dummylist.append(y)\n",
    "             \n",
    "print(types)\n",
    "print(type_name)\n",
    "print(dummylist)\n",
    "    \n",
    "\n",
    "\n",
    "    "
   ]
  },
  {
   "cell_type": "code",
   "execution_count": 87,
   "metadata": {},
   "outputs": [],
   "source": [
    "import csv\n",
    "with open(\"C:/Users/Rafey/Downloads/e_also_big (1).in\", newline = '\\n') as data:\n",
    "    data_reader = csv.reader(data, delimiter=\" \")\n",
    "    for line in data_reader:\n",
    "        pass"
   ]
  },
  {
   "cell_type": "code",
   "execution_count": 163,
   "metadata": {},
   "outputs": [
    {
     "name": "stdout",
     "output_type": "stream",
     "text": [
      "10\n"
     ]
    },
    {
     "data": {
      "text/plain": [
       "['4', '14', '15', '18', '29', '32', '36', '82', '95', '95']"
      ]
     },
     "execution_count": 163,
     "metadata": {},
     "output_type": "execute_result"
    }
   ],
   "source": [
    "print(len(lists[1]))\n",
    "lists[1]"
   ]
  },
  {
   "cell_type": "code",
   "execution_count": 167,
   "metadata": {},
   "outputs": [
    {
     "name": "stdout",
     "output_type": "stream",
     "text": [
      "10\n",
      "[0, 1, 2, 3, 4, 5, 6, 7, 8, 9]\n",
      "[0, 0, 0, 0, 0, 0, 0, 0, 0, 0, 1, 1, 1, 1, 1, 1, 1, 1, 1, 1, 2, 2, 2, 2, 2, 2, 2, 2, 2, 2, 3, 3, 3, 3, 3, 3, 3, 3, 3, 3, 4, 4, 4, 4, 4, 4, 4, 4, 4, 4, 5, 5, 5, 5, 5, 5, 5, 5, 5, 5, 6, 6, 6, 6, 6, 6, 6, 6, 6, 6, 7, 7, 7, 7, 7, 7, 7, 7, 7, 7, 8, 8, 8, 8, 8, 8, 8, 8, 8, 8, 9, 9, 9, 9, 9, 9, 9, 9, 9, 9]\n"
     ]
    }
   ],
   "source": [
    "lists = []\n",
    "import csv\n",
    "with open(\"C:/Users/Rafey/Downloads/b_small (1).in\", newline = '\\n') as data:\n",
    "    data_reader = csv.reader(data, delimiter=\" \")\n",
    "    for line in data_reader:\n",
    "        lists.append(line)\n",
    "\n",
    "types = lists[0][1]    \n",
    "type_name = []\n",
    "dummylist = []\n",
    "#num = 0 #type number\n",
    "for x in range(len(lists[1])):\n",
    "    type_name.append(x)\n",
    "    for y in lists[1]:        \n",
    "        if y in dummylist:\n",
    "            pass\n",
    "        else:\n",
    "            dummylist.append(x)\n",
    "            \n",
    "             \n",
    "print(types)\n",
    "print(type_name)\n",
    "print(dummylist)\n",
    "    \n",
    "\n"
   ]
  },
  {
   "cell_type": "code",
   "execution_count": 162,
   "metadata": {},
   "outputs": [
    {
     "data": {
      "text/plain": [
       "[['100', '10'], ['4', '14', '15', '18', '29', '32', '36', '82', '95', '95']]"
      ]
     },
     "execution_count": 162,
     "metadata": {},
     "output_type": "execute_result"
    }
   ],
   "source": [
    "lists"
   ]
  },
  {
   "cell_type": "code",
   "execution_count": 159,
   "metadata": {},
   "outputs": [
    {
     "name": "stdout",
     "output_type": "stream",
     "text": [
      "10\n",
      "[0, 0, 0, 0, 0, 0, 0, 0, 0, 0, 1, 1, 1, 1, 1, 1, 1, 1, 1, 1, 2, 2, 2, 2, 2, 2, 2, 2, 2, 2, 3, 3, 3, 3, 3, 3, 3, 3, 3, 3, 4, 4, 4, 4, 4, 4, 4, 4, 4, 4, 5, 5, 5, 5, 5, 5, 5, 5, 5, 5, 6, 6, 6, 6, 6, 6, 6, 6, 6, 6, 7, 7, 7, 7, 7, 7, 7, 7, 7, 7, 8, 8, 8, 8, 8, 8, 8, 8, 8, 8, 9, 9, 9, 9, 9, 9, 9, 9, 9, 9]\n",
      "['4', '14', '15', '18', '29', '32', '36', '82', '95']\n"
     ]
    }
   ],
   "source": [
    "lists = []\n",
    "import csv\n",
    "with open(\"C:/Users/Rafey/Downloads/b_small (1).in\", newline = '\\n') as data:\n",
    "    data_reader = csv.reader(data, delimiter=\" \")\n",
    "    for line in data_reader:\n",
    "        lists.append(line)\n",
    "\n",
    "types = lists[0][1]    \n",
    "type_name = []\n",
    "dummylist = []\n",
    "#num = 0 #type number\n",
    "for x in range(len(lists[1])):\n",
    "    for y in lists[1]:\n",
    "        type_name.append(x)\n",
    "        if y in dummylist:\n",
    "            continue\n",
    "        else:\n",
    "            dummylist.append(y)\n",
    "             \n",
    "print(types)\n",
    "print(type_name)\n",
    "print(dummylist)\n",
    "    \n",
    "\n"
   ]
  },
  {
   "cell_type": "code",
   "execution_count": 180,
   "metadata": {},
   "outputs": [
    {
     "name": "stdout",
     "output_type": "stream",
     "text": [
      "10\n",
      "[0, 1, 2, 3, 4, 5, 6, 7, 8, 8]\n",
      "['4', '14', '15', '18', '29', '32', '36', '82', '95', '95']\n"
     ]
    }
   ],
   "source": [
    "#[['100', '10'], ['4', '14', '15', '18', '29', '32', '36', '82', '95', '95']]\n",
    "lists = []\n",
    "import csv\n",
    "with open(\"C:/Users/Rafey/Downloads/b_small (1).in\", newline = '\\n') as data:\n",
    "    data_reader = csv.reader(data, delimiter=\" \")\n",
    "    for line in data_reader:\n",
    "        lists.append(line)\n",
    "\n",
    "types = lists[0][1]    \n",
    "type_name = []\n",
    "dummylist = []\n",
    "count = 0\n",
    "for x in lists[1]:\n",
    "    if x in dummylist:\n",
    "        type_name.append(count-1)\n",
    "        dummylist.append(x)\n",
    "    else:\n",
    "        dummylist.append(x)\n",
    "        type_name.append(count)\n",
    "        count+=1\n",
    "print(types)\n",
    "print(type_name)\n",
    "print(dummylist)\n",
    "    \n",
    "\n"
   ]
  },
  {
   "cell_type": "code",
   "execution_count": 181,
   "metadata": {},
   "outputs": [
    {
     "ename": "SyntaxError",
     "evalue": "invalid syntax (<ipython-input-181-30bfea117d29>, line 1)",
     "output_type": "error",
     "traceback": [
      "\u001b[1;36m  File \u001b[1;32m\"<ipython-input-181-30bfea117d29>\"\u001b[1;36m, line \u001b[1;32m1\u001b[0m\n\u001b[1;33m    file:///C:/Users/Rafey/Downloads/c_medium%20(1).in\u001b[0m\n\u001b[1;37m          ^\u001b[0m\n\u001b[1;31mSyntaxError\u001b[0m\u001b[1;31m:\u001b[0m invalid syntax\n"
     ]
    }
   ],
   "source": []
  },
  {
   "cell_type": "code",
   "execution_count": 197,
   "metadata": {},
   "outputs": [
    {
     "name": "stdout",
     "output_type": "stream",
     "text": [
      "50\n",
      "[0, 1, 1, 2, 3, 4, 5, 5, 6, 7, 7, 8, 9, 10, 11, 12, 13, 13, 14, 15, 16, 17, 18, 19, 19, 20, 21, 22, 23, 24, 25, 26, 26, 27, 28, 29, 29, 30, 31, 32, 33, 34, 35, 36, 37, 38, 39, 40, 41, 41]\n"
     ]
    }
   ],
   "source": [
    "#[['100', '10'], ['4', '14', '15', '18', '29', '32', '36', '82', '95', '95']]\n",
    "lists = []\n",
    "import csv\n",
    "with open(\"C:/Users/Rafey/Downloads/c_medium (1).in\", newline = '\\n') as data:\n",
    "    data_reader = csv.reader(data, delimiter=\" \")\n",
    "    for line in data_reader:\n",
    "        lists.append(line)\n",
    "\n",
    "types = lists[0][1]    \n",
    "type_name = []\n",
    "dummylist = []\n",
    "count = 0\n",
    "for x in lists[1]:\n",
    "    if x in dummylist:\n",
    "        type_name.append(count-1)\n",
    "        dummylist.append(x)\n",
    "    else:\n",
    "        dummylist.append(x)\n",
    "        type_name.append(count)\n",
    "        count+=1\n",
    "print(types)\n",
    "print(type_name)\n",
    "with open('c_medium.out', 'a') as the_file:\n",
    "    the_file.write(types)\n",
    "    the_file.write(\"\\n\")\n",
    "    for val in type_name:\n",
    "        the_file.write(str(val))\n",
    "        the_file.write(\" \")\n",
    "    \n",
    "    \n",
    "\n"
   ]
  },
  {
   "cell_type": "code",
   "execution_count": null,
   "metadata": {},
   "outputs": [],
   "source": []
  },
  {
   "cell_type": "code",
   "execution_count": null,
   "metadata": {},
   "outputs": [],
   "source": []
  }
 ],
 "metadata": {
  "kernelspec": {
   "display_name": "Python 3",
   "language": "python",
   "name": "python3"
  },
  "language_info": {
   "codemirror_mode": {
    "name": "ipython",
    "version": 3
   },
   "file_extension": ".py",
   "mimetype": "text/x-python",
   "name": "python",
   "nbconvert_exporter": "python",
   "pygments_lexer": "ipython3",
   "version": "3.7.3"
  }
 },
 "nbformat": 4,
 "nbformat_minor": 2
}
