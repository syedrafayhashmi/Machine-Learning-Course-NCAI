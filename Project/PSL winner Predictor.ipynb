{
 "cells": [
  {
   "cell_type": "markdown",
   "metadata": {},
   "source": [
    "**Problem Statement:** PSL winner predictor by using past data of team you have to predict \n",
    "matches make a dataset of every team from past and by using the\n",
    "total winings predict future winner\n"
   ]
  },
  {
   "cell_type": "markdown",
   "metadata": {},
   "source": [
    "USING A WEBSCRAPPING TOOL FOR DATA SCRAPPING"
   ]
  },
  {
   "cell_type": "code",
   "execution_count": 1,
   "metadata": {},
   "outputs": [
    {
     "name": "stderr",
     "output_type": "stream",
     "text": [
      "C:\\Users\\Rafey\\Anaconda3\\lib\\site-packages\\dask\\config.py:168: YAMLLoadWarning: calling yaml.load() without Loader=... is deprecated, as the default Loader is unsafe. Please read https://msg.pyyaml.org/load for full details.\n",
      "  data = yaml.load(f.read()) or {}\n",
      "C:\\Users\\Rafey\\Anaconda3\\lib\\site-packages\\distributed\\config.py:20: YAMLLoadWarning: calling yaml.load() without Loader=... is deprecated, as the default Loader is unsafe. Please read https://msg.pyyaml.org/load for full details.\n",
      "  defaults = yaml.load(f)\n"
     ]
    }
   ],
   "source": [
    "import pandas as pd\n",
    "import xgboost as xgb\n",
    "from sklearn.linear_model import LogisticRegression\n",
    "from sklearn.svm import SVC"
   ]
  },
  {
   "cell_type": "code",
   "execution_count": 2,
   "metadata": {},
   "outputs": [
    {
     "data": {
      "text/plain": [
       "['psl1_2016.csv',\n",
       " 'psl2_2017.csv',\n",
       " 'psl3_2018.csv',\n",
       " 'psl4_2019.csv',\n",
       " 'psl5_2020.csv']"
      ]
     },
     "metadata": {},
     "output_type": "display_data"
    }
   ],
   "source": [
    "import os\n",
    "data_files = []\n",
    "for file in os.listdir(\"./data\"):\n",
    "    if file.endswith(\".csv\"):\n",
    "        data_files.append(file)\n",
    "display(data_files)"
   ]
  },
  {
   "cell_type": "code",
   "execution_count": 3,
   "metadata": {},
   "outputs": [
    {
     "data": {
      "text/html": [
       "<div>\n",
       "<style scoped>\n",
       "    .dataframe tbody tr th:only-of-type {\n",
       "        vertical-align: middle;\n",
       "    }\n",
       "\n",
       "    .dataframe tbody tr th {\n",
       "        vertical-align: top;\n",
       "    }\n",
       "\n",
       "    .dataframe thead th {\n",
       "        text-align: right;\n",
       "    }\n",
       "</style>\n",
       "<table border=\"1\" class=\"dataframe\">\n",
       "  <thead>\n",
       "    <tr style=\"text-align: right;\">\n",
       "      <th></th>\n",
       "      <th>match_teams</th>\n",
       "      <th>match_winner</th>\n",
       "    </tr>\n",
       "  </thead>\n",
       "  <tbody>\n",
       "    <tr>\n",
       "      <th>0</th>\n",
       "      <td>ISLAMABAD UNITED vs QUETTA GLADIATORS, 1st Match</td>\n",
       "      <td>Quetta Gladiators won by 8 wkts</td>\n",
       "    </tr>\n",
       "    <tr>\n",
       "      <th>1</th>\n",
       "      <td>KARACHI KINGS vs LAHORE QALANDARS, 2nd Match</td>\n",
       "      <td>Karachi Kings won by 7 wkts</td>\n",
       "    </tr>\n",
       "    <tr>\n",
       "      <th>2</th>\n",
       "      <td>PESHAWAR ZALMI vs ISLAMABAD UNITED, 3rd Match</td>\n",
       "      <td>Peshawar Zalmi won by 24 runs</td>\n",
       "    </tr>\n",
       "    <tr>\n",
       "      <th>3</th>\n",
       "      <td>QUETTA GLADIATORS vs KARACHI KINGS, 4th Match</td>\n",
       "      <td>Quetta Gladiators won by 8 wkts</td>\n",
       "    </tr>\n",
       "    <tr>\n",
       "      <th>4</th>\n",
       "      <td>LAHORE QALANDARS vs PESHAWAR ZALMI, 5th Match</td>\n",
       "      <td>Peshawar Zalmi won by 9 wkts</td>\n",
       "    </tr>\n",
       "  </tbody>\n",
       "</table>\n",
       "</div>"
      ],
      "text/plain": [
       "                                        match_teams  \\\n",
       "0  ISLAMABAD UNITED vs QUETTA GLADIATORS, 1st Match   \n",
       "1      KARACHI KINGS vs LAHORE QALANDARS, 2nd Match   \n",
       "2     PESHAWAR ZALMI vs ISLAMABAD UNITED, 3rd Match   \n",
       "3     QUETTA GLADIATORS vs KARACHI KINGS, 4th Match   \n",
       "4     LAHORE QALANDARS vs PESHAWAR ZALMI, 5th Match   \n",
       "\n",
       "                      match_winner  \n",
       "0  Quetta Gladiators won by 8 wkts  \n",
       "1      Karachi Kings won by 7 wkts  \n",
       "2    Peshawar Zalmi won by 24 runs  \n",
       "3  Quetta Gladiators won by 8 wkts  \n",
       "4     Peshawar Zalmi won by 9 wkts  "
      ]
     },
     "execution_count": 3,
     "metadata": {},
     "output_type": "execute_result"
    }
   ],
   "source": [
    "data = pd.read_csv(\"./data/\"+data_files[0])\n",
    "data.head()"
   ]
  },
  {
   "cell_type": "code",
   "execution_count": 4,
   "metadata": {},
   "outputs": [
    {
     "data": {
      "text/html": [
       "<div>\n",
       "<style scoped>\n",
       "    .dataframe tbody tr th:only-of-type {\n",
       "        vertical-align: middle;\n",
       "    }\n",
       "\n",
       "    .dataframe tbody tr th {\n",
       "        vertical-align: top;\n",
       "    }\n",
       "\n",
       "    .dataframe thead th {\n",
       "        text-align: right;\n",
       "    }\n",
       "</style>\n",
       "<table border=\"1\" class=\"dataframe\">\n",
       "  <thead>\n",
       "    <tr style=\"text-align: right;\">\n",
       "      <th></th>\n",
       "      <th>match_teams</th>\n",
       "      <th>match_winner</th>\n",
       "    </tr>\n",
       "  </thead>\n",
       "  <tbody>\n",
       "    <tr>\n",
       "      <th>0</th>\n",
       "      <td>ISLAMABAD UNITED vs QUETTA GLADIATORS, 1st Match</td>\n",
       "      <td>Quetta Gladiators won by 8 wkts</td>\n",
       "    </tr>\n",
       "    <tr>\n",
       "      <th>1</th>\n",
       "      <td>KARACHI KINGS vs LAHORE QALANDARS, 2nd Match</td>\n",
       "      <td>Karachi Kings won by 7 wkts</td>\n",
       "    </tr>\n",
       "    <tr>\n",
       "      <th>2</th>\n",
       "      <td>PESHAWAR ZALMI vs ISLAMABAD UNITED, 3rd Match</td>\n",
       "      <td>Peshawar Zalmi won by 24 runs</td>\n",
       "    </tr>\n",
       "    <tr>\n",
       "      <th>3</th>\n",
       "      <td>QUETTA GLADIATORS vs KARACHI KINGS, 4th Match</td>\n",
       "      <td>Quetta Gladiators won by 8 wkts</td>\n",
       "    </tr>\n",
       "    <tr>\n",
       "      <th>4</th>\n",
       "      <td>LAHORE QALANDARS vs PESHAWAR ZALMI, 5th Match</td>\n",
       "      <td>Peshawar Zalmi won by 9 wkts</td>\n",
       "    </tr>\n",
       "    <tr>\n",
       "      <th>5</th>\n",
       "      <td>ISLAMABAD UNITED vs KARACHI KINGS, 6th Match</td>\n",
       "      <td>Islamabad United won by 2 runs</td>\n",
       "    </tr>\n",
       "    <tr>\n",
       "      <th>6</th>\n",
       "      <td>QUETTA GLADIATORS vs PESHAWAR ZALMI, 7th Match</td>\n",
       "      <td>Quetta Gladiators won by 3 wkts</td>\n",
       "    </tr>\n",
       "    <tr>\n",
       "      <th>7</th>\n",
       "      <td>LAHORE QALANDARS vs QUETTA GLADIATORS, 8th Match</td>\n",
       "      <td>Lahore Qalandars won by 63 runs</td>\n",
       "    </tr>\n",
       "    <tr>\n",
       "      <th>8</th>\n",
       "      <td>ISLAMABAD UNITED vs LAHORE QALANDARS, 9th Match</td>\n",
       "      <td>Islamabad United won by 8 wkts</td>\n",
       "    </tr>\n",
       "    <tr>\n",
       "      <th>9</th>\n",
       "      <td>KARACHI KINGS vs PESHAWAR ZALMI, 10th Match</td>\n",
       "      <td>Peshawar Zalmi won by 3 runs</td>\n",
       "    </tr>\n",
       "    <tr>\n",
       "      <th>10</th>\n",
       "      <td>ISLAMABAD UNITED vs QUETTA GLADIATORS, 11th Match</td>\n",
       "      <td>Quetta Gladiators won by 7 wkts</td>\n",
       "    </tr>\n",
       "    <tr>\n",
       "      <th>11</th>\n",
       "      <td>KARACHI KINGS vs LAHORE QALANDARS, 12th Match</td>\n",
       "      <td>Karachi Kings won by 27 runs</td>\n",
       "    </tr>\n",
       "    <tr>\n",
       "      <th>12</th>\n",
       "      <td>ISLAMABAD UNITED vs PESHAWAR ZALMI, 13th Match</td>\n",
       "      <td>Peshawar Zalmi won by 7 wkts</td>\n",
       "    </tr>\n",
       "    <tr>\n",
       "      <th>13</th>\n",
       "      <td>KARACHI KINGS vs QUETTA GLADIATORS, 14th Match</td>\n",
       "      <td>Quetta Gladiators won by 5 wkts</td>\n",
       "    </tr>\n",
       "    <tr>\n",
       "      <th>14</th>\n",
       "      <td>LAHORE QALANDARS vs PESHAWAR ZALMI, 15th Match</td>\n",
       "      <td>Lahore Qalandars won by 4 runs</td>\n",
       "    </tr>\n",
       "    <tr>\n",
       "      <th>15</th>\n",
       "      <td>ISLAMABAD UNITED vs KARACHI KINGS, 16th Match</td>\n",
       "      <td>Islamabad United won by 5 wkts</td>\n",
       "    </tr>\n",
       "    <tr>\n",
       "      <th>16</th>\n",
       "      <td>QUETTA GLADIATORS vs PESHAWAR ZALMI, 17th Match</td>\n",
       "      <td>Peshawar Zalmi won by 8 wkts</td>\n",
       "    </tr>\n",
       "    <tr>\n",
       "      <th>17</th>\n",
       "      <td>LAHORE QALANDARS vs QUETTA GLADIATORS, 18th Match</td>\n",
       "      <td>Quetta Gladiators won by 2 wkts</td>\n",
       "    </tr>\n",
       "    <tr>\n",
       "      <th>18</th>\n",
       "      <td>KARACHI KINGS vs PESHAWAR ZALMI, 19th Match</td>\n",
       "      <td>Peshawar Zalmi won by 5 wkts</td>\n",
       "    </tr>\n",
       "    <tr>\n",
       "      <th>19</th>\n",
       "      <td>ISLAMABAD UNITED vs LAHORE QALANDARS, 20th Match</td>\n",
       "      <td>Islamabad United won by 5 wkts</td>\n",
       "    </tr>\n",
       "    <tr>\n",
       "      <th>20</th>\n",
       "      <td>PESHAWAR ZALMI vs QUETTA GLADIATORS, 1st Quali...</td>\n",
       "      <td>Quetta Gladiators won by 1 run</td>\n",
       "    </tr>\n",
       "    <tr>\n",
       "      <th>21</th>\n",
       "      <td>ISLAMABAD UNITED vs KARACHI KINGS, 2nd Qualify...</td>\n",
       "      <td>Islamabad United won by 9 wkts</td>\n",
       "    </tr>\n",
       "    <tr>\n",
       "      <th>22</th>\n",
       "      <td>PESHAWAR ZALMI vs ISLAMABAD UNITED, 3rd Qualif...</td>\n",
       "      <td>Islamabad United won by 50 runs</td>\n",
       "    </tr>\n",
       "    <tr>\n",
       "      <th>23</th>\n",
       "      <td>ISLAMABAD UNITED vs QUETTA GLADIATORS, Final</td>\n",
       "      <td>Islamabad United won by 6 wkts</td>\n",
       "    </tr>\n",
       "  </tbody>\n",
       "</table>\n",
       "</div>"
      ],
      "text/plain": [
       "                                          match_teams  \\\n",
       "0    ISLAMABAD UNITED vs QUETTA GLADIATORS, 1st Match   \n",
       "1        KARACHI KINGS vs LAHORE QALANDARS, 2nd Match   \n",
       "2       PESHAWAR ZALMI vs ISLAMABAD UNITED, 3rd Match   \n",
       "3       QUETTA GLADIATORS vs KARACHI KINGS, 4th Match   \n",
       "4       LAHORE QALANDARS vs PESHAWAR ZALMI, 5th Match   \n",
       "5        ISLAMABAD UNITED vs KARACHI KINGS, 6th Match   \n",
       "6      QUETTA GLADIATORS vs PESHAWAR ZALMI, 7th Match   \n",
       "7    LAHORE QALANDARS vs QUETTA GLADIATORS, 8th Match   \n",
       "8     ISLAMABAD UNITED vs LAHORE QALANDARS, 9th Match   \n",
       "9         KARACHI KINGS vs PESHAWAR ZALMI, 10th Match   \n",
       "10  ISLAMABAD UNITED vs QUETTA GLADIATORS, 11th Match   \n",
       "11      KARACHI KINGS vs LAHORE QALANDARS, 12th Match   \n",
       "12     ISLAMABAD UNITED vs PESHAWAR ZALMI, 13th Match   \n",
       "13     KARACHI KINGS vs QUETTA GLADIATORS, 14th Match   \n",
       "14     LAHORE QALANDARS vs PESHAWAR ZALMI, 15th Match   \n",
       "15      ISLAMABAD UNITED vs KARACHI KINGS, 16th Match   \n",
       "16    QUETTA GLADIATORS vs PESHAWAR ZALMI, 17th Match   \n",
       "17  LAHORE QALANDARS vs QUETTA GLADIATORS, 18th Match   \n",
       "18        KARACHI KINGS vs PESHAWAR ZALMI, 19th Match   \n",
       "19   ISLAMABAD UNITED vs LAHORE QALANDARS, 20th Match   \n",
       "20  PESHAWAR ZALMI vs QUETTA GLADIATORS, 1st Quali...   \n",
       "21  ISLAMABAD UNITED vs KARACHI KINGS, 2nd Qualify...   \n",
       "22  PESHAWAR ZALMI vs ISLAMABAD UNITED, 3rd Qualif...   \n",
       "23       ISLAMABAD UNITED vs QUETTA GLADIATORS, Final   \n",
       "\n",
       "                       match_winner  \n",
       "0   Quetta Gladiators won by 8 wkts  \n",
       "1       Karachi Kings won by 7 wkts  \n",
       "2     Peshawar Zalmi won by 24 runs  \n",
       "3   Quetta Gladiators won by 8 wkts  \n",
       "4      Peshawar Zalmi won by 9 wkts  \n",
       "5    Islamabad United won by 2 runs  \n",
       "6   Quetta Gladiators won by 3 wkts  \n",
       "7   Lahore Qalandars won by 63 runs  \n",
       "8    Islamabad United won by 8 wkts  \n",
       "9      Peshawar Zalmi won by 3 runs  \n",
       "10  Quetta Gladiators won by 7 wkts  \n",
       "11     Karachi Kings won by 27 runs  \n",
       "12     Peshawar Zalmi won by 7 wkts  \n",
       "13  Quetta Gladiators won by 5 wkts  \n",
       "14   Lahore Qalandars won by 4 runs  \n",
       "15   Islamabad United won by 5 wkts  \n",
       "16     Peshawar Zalmi won by 8 wkts  \n",
       "17  Quetta Gladiators won by 2 wkts  \n",
       "18     Peshawar Zalmi won by 5 wkts  \n",
       "19   Islamabad United won by 5 wkts  \n",
       "20   Quetta Gladiators won by 1 run  \n",
       "21   Islamabad United won by 9 wkts  \n",
       "22  Islamabad United won by 50 runs  \n",
       "23   Islamabad United won by 6 wkts  "
      ]
     },
     "execution_count": 4,
     "metadata": {},
     "output_type": "execute_result"
    }
   ],
   "source": [
    "data"
   ]
  },
  {
   "cell_type": "code",
   "execution_count": 5,
   "metadata": {},
   "outputs": [],
   "source": [
    "team1 = []\n",
    "team2 = []\n",
    "for x in range(len(data.match_teams)):\n",
    "    teams = data.match_teams[x].split(\"vs\")\n",
    "    team1.append(teams[0])\n",
    "    team2.append(teams[1])"
   ]
  },
  {
   "cell_type": "code",
   "execution_count": 6,
   "metadata": {},
   "outputs": [
    {
     "data": {
      "text/plain": [
       "[' QUETTA GLADIATORS, 1st Match',\n",
       " ' LAHORE QALANDARS, 2nd Match',\n",
       " ' ISLAMABAD UNITED, 3rd Match',\n",
       " ' KARACHI KINGS, 4th Match',\n",
       " ' PESHAWAR ZALMI, 5th Match',\n",
       " ' KARACHI KINGS, 6th Match',\n",
       " ' PESHAWAR ZALMI, 7th Match',\n",
       " ' QUETTA GLADIATORS, 8th Match',\n",
       " ' LAHORE QALANDARS, 9th Match',\n",
       " ' PESHAWAR ZALMI, 10th Match',\n",
       " ' QUETTA GLADIATORS, 11th Match',\n",
       " ' LAHORE QALANDARS, 12th Match',\n",
       " ' PESHAWAR ZALMI, 13th Match',\n",
       " ' QUETTA GLADIATORS, 14th Match',\n",
       " ' PESHAWAR ZALMI, 15th Match',\n",
       " ' KARACHI KINGS, 16th Match',\n",
       " ' PESHAWAR ZALMI, 17th Match',\n",
       " ' QUETTA GLADIATORS, 18th Match',\n",
       " ' PESHAWAR ZALMI, 19th Match',\n",
       " ' LAHORE QALANDARS, 20th Match',\n",
       " ' QUETTA GLADIATORS, 1st Qualifying Final (1 v 2)',\n",
       " ' KARACHI KINGS, 2nd Qualifying Final (3 v 4)',\n",
       " ' ISLAMABAD UNITED, 3rd Qualifying Final',\n",
       " ' QUETTA GLADIATORS, Final']"
      ]
     },
     "execution_count": 6,
     "metadata": {},
     "output_type": "execute_result"
    }
   ],
   "source": [
    "team2"
   ]
  },
  {
   "cell_type": "code",
   "execution_count": 7,
   "metadata": {},
   "outputs": [],
   "source": [
    "t1 = pd.DataFrame(team1)\n",
    "t2 = pd.DataFrame(team2)"
   ]
  },
  {
   "cell_type": "code",
   "execution_count": 15,
   "metadata": {},
   "outputs": [],
   "source": [
    "t = []\n",
    "for a in range(len(t1)):\n",
    "    tm = t2[0][a].split(\",\")[0]\n",
    "    t.append(tm)"
   ]
  },
  {
   "cell_type": "code",
   "execution_count": 18,
   "metadata": {},
   "outputs": [
    {
     "data": {
      "text/plain": [
       "[' QUETTA GLADIATORS',\n",
       " ' LAHORE QALANDARS',\n",
       " ' ISLAMABAD UNITED',\n",
       " ' KARACHI KINGS',\n",
       " ' PESHAWAR ZALMI',\n",
       " ' KARACHI KINGS',\n",
       " ' PESHAWAR ZALMI',\n",
       " ' QUETTA GLADIATORS',\n",
       " ' LAHORE QALANDARS',\n",
       " ' PESHAWAR ZALMI',\n",
       " ' QUETTA GLADIATORS',\n",
       " ' LAHORE QALANDARS',\n",
       " ' PESHAWAR ZALMI',\n",
       " ' QUETTA GLADIATORS',\n",
       " ' PESHAWAR ZALMI',\n",
       " ' KARACHI KINGS',\n",
       " ' PESHAWAR ZALMI',\n",
       " ' QUETTA GLADIATORS',\n",
       " ' PESHAWAR ZALMI',\n",
       " ' LAHORE QALANDARS',\n",
       " ' QUETTA GLADIATORS',\n",
       " ' KARACHI KINGS',\n",
       " ' ISLAMABAD UNITED',\n",
       " ' QUETTA GLADIATORS']"
      ]
     },
     "execution_count": 18,
     "metadata": {},
     "output_type": "execute_result"
    }
   ],
   "source": [
    "t"
   ]
  },
  {
   "cell_type": "markdown",
   "metadata": {},
   "source": [
    "**task** make new data frame using the data and split the teams and the winner also change the names of qualifiying rounds and finals"
   ]
  },
  {
   "cell_type": "code",
   "execution_count": null,
   "metadata": {},
   "outputs": [],
   "source": []
  },
  {
   "cell_type": "code",
   "execution_count": null,
   "metadata": {},
   "outputs": [],
   "source": []
  },
  {
   "cell_type": "code",
   "execution_count": null,
   "metadata": {},
   "outputs": [],
   "source": []
  },
  {
   "cell_type": "markdown",
   "metadata": {},
   "source": [
    "use data of uptill 2020 for training testing and validation and make predictions of all the matches of 2020"
   ]
  },
  {
   "cell_type": "markdown",
   "metadata": {},
   "source": [
    "SVM,Logistic Regression, RNN decision tree, random forest"
   ]
  },
  {
   "cell_type": "code",
   "execution_count": null,
   "metadata": {},
   "outputs": [],
   "source": []
  },
  {
   "cell_type": "code",
   "execution_count": null,
   "metadata": {},
   "outputs": [],
   "source": []
  }
 ],
 "metadata": {
  "kernelspec": {
   "display_name": "Python 3",
   "language": "python",
   "name": "python3"
  },
  "language_info": {
   "codemirror_mode": {
    "name": "ipython",
    "version": 3
   },
   "file_extension": ".py",
   "mimetype": "text/x-python",
   "name": "python",
   "nbconvert_exporter": "python",
   "pygments_lexer": "ipython3",
   "version": "3.7.3"
  }
 },
 "nbformat": 4,
 "nbformat_minor": 2
}
